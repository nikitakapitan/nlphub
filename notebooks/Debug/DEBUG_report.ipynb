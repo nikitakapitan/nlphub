{
 "cells": [
  {
   "cell_type": "code",
   "execution_count": null,
   "metadata": {},
   "outputs": [],
   "source": [
    "# %%capture\n",
    "# !git clone https://github.com/nikitakapitan/nlphub.git\n",
    "# !mkdir logs\n",
    "# !pip install datasets transformers evaluate accelerate\n",
    "\n",
    "# %cd nlphub\n",
    "# !pip install "
   ]
  },
  {
   "cell_type": "code",
   "execution_count": null,
   "metadata": {},
   "outputs": [],
   "source": [
    "import yaml\n",
    "import torch\n",
    "import json\n",
    "from datasets import load_dataset\n",
    "from transformers import pipeline\n",
    "from transformers import TrainingArguments, Trainer\n",
    "from transformers import AutoTokenizer\n",
    "from nlphub import FineTuner\n",
    "\n",
    "from huggingface_hub import login\n",
    "login(\"TOKEN\")"
   ]
  },
  {
   "cell_type": "code",
   "execution_count": null,
   "metadata": {},
   "outputs": [],
   "source": [
    "with open('train.yaml', 'r') as f:\n",
    "    config = yaml.safe_load(f)\n",
    "config"
   ]
  },
  {
   "cell_type": "code",
   "execution_count": null,
   "metadata": {},
   "outputs": [],
   "source": [
    "finetuner = FineTuner(config)"
   ]
  },
  {
   "cell_type": "code",
   "execution_count": null,
   "metadata": {},
   "outputs": [],
   "source": [
    "tokenize = lambda batch: finetuner.tokenizer(batch['text'], padding='max_length', truncation=True)\n",
    "dataset_encoded = finetuner.dataset.map(tokenize, batched=True)"
   ]
  },
  {
   "cell_type": "code",
   "execution_count": null,
   "metadata": {},
   "outputs": [],
   "source": [
    "training_args = TrainingArguments(\n",
    "        output_dir=f'{config[\"BASE_MODEL_NAME\"]}-finetuned-{config[\"DATASET_NAME\"]}_{config[\"DATASET_CONFIG_NAME\"]}',\n",
    "        num_train_epochs=config['NUM_EPOCHS'],\n",
    "        learning_rate=config['LEARNING_RATE'],\n",
    "        per_device_train_batch_size=config['BATCH_SIZE'],\n",
    "        per_device_eval_batch_size=config['BATCH_SIZE'],\n",
    "        warmup_steps=500,\n",
    "        weight_decay=0.01,\n",
    "        evaluation_strategy='epoch',\n",
    "        disable_tqdm=False,\n",
    "        logging_dir='./logs',\n",
    "        push_to_hub=True,\n",
    "        log_level=config['LOG_LEVEL'],\n",
    "    )"
   ]
  },
  {
   "cell_type": "code",
   "execution_count": null,
   "metadata": {},
   "outputs": [],
   "source": [
    "trainer = Trainer(\n",
    "        model=finetuner.model,\n",
    "        args=training_args,\n",
    "        train_dataset=dataset_encoded['train'],\n",
    "        eval_dataset=dataset_encoded['validation'],\n",
    "        compute_metrics=finetuner.compute_metrics_func,\n",
    "    )"
   ]
  },
  {
   "cell_type": "code",
   "execution_count": null,
   "metadata": {},
   "outputs": [],
   "source": [
    "trainer.evaluate()"
   ]
  },
  {
   "cell_type": "code",
   "execution_count": null,
   "metadata": {},
   "outputs": [],
   "source": [
    "trainer.train()"
   ]
  },
  {
   "cell_type": "code",
   "execution_count": null,
   "metadata": {},
   "outputs": [],
   "source": [
    "trainer.push_to_hub()"
   ]
  }
 ],
 "metadata": {
  "language_info": {
   "name": "python"
  }
 },
 "nbformat": 4,
 "nbformat_minor": 2
}
