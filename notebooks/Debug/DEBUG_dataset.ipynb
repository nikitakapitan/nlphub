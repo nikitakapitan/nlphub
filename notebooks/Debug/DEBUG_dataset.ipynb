{
 "cells": [
  {
   "cell_type": "code",
   "execution_count": null,
   "metadata": {},
   "outputs": [],
   "source": [
    "%%capture\n",
    "!git clone https://github.com/nikitakapitan/nlphub.git\n",
    "!pip install datasets\n",
    "\n",
    "%cd nlphub\n",
    "!pip install ."
   ]
  },
  {
   "cell_type": "code",
   "execution_count": null,
   "metadata": {},
   "outputs": [],
   "source": [
    "from datasets import load_dataset\n",
    "from nlphub import get_datasetdict_size\n",
    "\n",
    "dataset = load_dataset(\"glue\", \"mrpc\")\n",
    "get_datasetdict_size(dataset)"
   ]
  },
  {
   "cell_type": "code",
   "execution_count": null,
   "metadata": {},
   "outputs": [],
   "source": [
    "dataset['train'][0]"
   ]
  }
 ],
 "metadata": {
  "language_info": {
   "name": "python"
  }
 },
 "nbformat": 4,
 "nbformat_minor": 2
}
