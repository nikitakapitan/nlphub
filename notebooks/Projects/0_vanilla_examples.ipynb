{
 "cells": [
  {
   "cell_type": "code",
   "execution_count": 1,
   "metadata": {},
   "outputs": [],
   "source": [
    "import warnings\n",
    "warnings.filterwarnings('ignore')\n",
    "import transformers\n",
    "import pandas as pd"
   ]
  },
  {
   "attachments": {},
   "cell_type": "markdown",
   "metadata": {},
   "source": [
    "# Sentiment"
   ]
  },
  {
   "cell_type": "code",
   "execution_count": 2,
   "metadata": {},
   "outputs": [
    {
     "name": "stderr",
     "output_type": "stream",
     "text": [
      "No model was supplied, defaulted to distilbert-base-uncased-finetuned-sst-2-english and revision af0f99b (https://huggingface.co/distilbert-base-uncased-finetuned-sst-2-english).\n",
      "Using a pipeline without specifying a model name and revision in production is not recommended.\n",
      "Xformers is not installed correctly. If you want to use memory_efficient_attention to accelerate training use the following command to install Xformers\n",
      "pip install xformers.\n"
     ]
    },
    {
     "data": {
      "text/html": [
       "<div>\n",
       "<style scoped>\n",
       "    .dataframe tbody tr th:only-of-type {\n",
       "        vertical-align: middle;\n",
       "    }\n",
       "\n",
       "    .dataframe tbody tr th {\n",
       "        vertical-align: top;\n",
       "    }\n",
       "\n",
       "    .dataframe thead th {\n",
       "        text-align: right;\n",
       "    }\n",
       "</style>\n",
       "<table border=\"1\" class=\"dataframe\">\n",
       "  <thead>\n",
       "    <tr style=\"text-align: right;\">\n",
       "      <th></th>\n",
       "      <th>label</th>\n",
       "      <th>score</th>\n",
       "    </tr>\n",
       "  </thead>\n",
       "  <tbody>\n",
       "    <tr>\n",
       "      <th>0</th>\n",
       "      <td>POSITIVE</td>\n",
       "      <td>0.997307</td>\n",
       "    </tr>\n",
       "  </tbody>\n",
       "</table>\n",
       "</div>"
      ],
      "text/plain": [
       "      label     score\n",
       "0  POSITIVE  0.997307"
      ]
     },
     "execution_count": 2,
     "metadata": {},
     "output_type": "execute_result"
    }
   ],
   "source": [
    "text = \"I liked this moive on Netflix\"\n",
    "classifier = transformers.pipeline(\"text-classification\")\n",
    "cls = classifier(text)\n",
    "pd.DataFrame(cls)"
   ]
  },
  {
   "attachments": {},
   "cell_type": "markdown",
   "metadata": {},
   "source": [
    "# Named Entity Recognition"
   ]
  },
  {
   "cell_type": "code",
   "execution_count": 3,
   "metadata": {},
   "outputs": [
    {
     "name": "stderr",
     "output_type": "stream",
     "text": [
      "No model was supplied, defaulted to dbmdz/bert-large-cased-finetuned-conll03-english and revision f2482bf (https://huggingface.co/dbmdz/bert-large-cased-finetuned-conll03-english).\n",
      "Using a pipeline without specifying a model name and revision in production is not recommended.\n"
     ]
    },
    {
     "data": {
      "text/html": [
       "<div>\n",
       "<style scoped>\n",
       "    .dataframe tbody tr th:only-of-type {\n",
       "        vertical-align: middle;\n",
       "    }\n",
       "\n",
       "    .dataframe tbody tr th {\n",
       "        vertical-align: top;\n",
       "    }\n",
       "\n",
       "    .dataframe thead th {\n",
       "        text-align: right;\n",
       "    }\n",
       "</style>\n",
       "<table border=\"1\" class=\"dataframe\">\n",
       "  <thead>\n",
       "    <tr style=\"text-align: right;\">\n",
       "      <th></th>\n",
       "      <th>entity</th>\n",
       "      <th>score</th>\n",
       "      <th>index</th>\n",
       "      <th>word</th>\n",
       "      <th>start</th>\n",
       "      <th>end</th>\n",
       "    </tr>\n",
       "  </thead>\n",
       "  <tbody>\n",
       "    <tr>\n",
       "      <th>0</th>\n",
       "      <td>I-MISC</td>\n",
       "      <td>0.596625</td>\n",
       "      <td>4</td>\n",
       "      <td>Apple</td>\n",
       "      <td>13</td>\n",
       "      <td>18</td>\n",
       "    </tr>\n",
       "    <tr>\n",
       "      <th>1</th>\n",
       "      <td>I-ORG</td>\n",
       "      <td>0.894626</td>\n",
       "      <td>9</td>\n",
       "      <td>Netflix</td>\n",
       "      <td>28</td>\n",
       "      <td>35</td>\n",
       "    </tr>\n",
       "  </tbody>\n",
       "</table>\n",
       "</div>"
      ],
      "text/plain": [
       "   entity     score  index     word  start  end\n",
       "0  I-MISC  0.596625      4    Apple     13   18\n",
       "1   I-ORG  0.894626      9  Netflix     28   35"
      ]
     },
     "execution_count": 3,
     "metadata": {},
     "output_type": "execute_result"
    }
   ],
   "source": [
    "text = \"I liked this Apple moive on Netflix\"\n",
    "recognizer = transformers.pipeline(\"ner\")\n",
    "entity = recognizer(text)\n",
    "pd.DataFrame(entity)"
   ]
  },
  {
   "attachments": {},
   "cell_type": "markdown",
   "metadata": {},
   "source": [
    "# Qestion-Answering"
   ]
  },
  {
   "cell_type": "code",
   "execution_count": 4,
   "metadata": {},
   "outputs": [
    {
     "name": "stderr",
     "output_type": "stream",
     "text": [
      "No model was supplied, defaulted to distilbert-base-cased-distilled-squad and revision 626af31 (https://huggingface.co/distilbert-base-cased-distilled-squad).\n",
      "Using a pipeline without specifying a model name and revision in production is not recommended.\n"
     ]
    },
    {
     "name": "stdout",
     "output_type": "stream",
     "text": [
      "\n",
      "QA for question='What is the capital of France?'\n",
      "{'score': 0.9899722933769226, 'start': 49, 'end': 54, 'answer': 'Paris'}\n"
     ]
    }
   ],
   "source": [
    "question = \"What is the capital of France?\"\n",
    "context = \"France is located in Europe, its biggest city is Paris\"\n",
    "print(f'\\nQA for {question=}')\n",
    "qa = transformers.pipeline(\"question-answering\")\n",
    "answer = qa(question=question, context=context)\n",
    "print(answer)"
   ]
  },
  {
   "attachments": {},
   "cell_type": "markdown",
   "metadata": {},
   "source": [
    "# Resume"
   ]
  },
  {
   "cell_type": "code",
   "execution_count": 5,
   "metadata": {},
   "outputs": [
    {
     "name": "stderr",
     "output_type": "stream",
     "text": [
      "No model was supplied, defaulted to sshleifer/distilbart-cnn-12-6 and revision a4f8f3e (https://huggingface.co/sshleifer/distilbart-cnn-12-6).\n",
      "Using a pipeline without specifying a model name and revision in production is not recommended.\n"
     ]
    },
    {
     "data": {
      "text/plain": [
       "[{'summary_text': ' Markus was born in a small city in Ukraine and loved to walk along the river . The road was too long so he could never reach the river beach where he knew there were activities and some of his friends live . Markus started training to run so that one day he may be able to run to the beach one day . But the distance was so far that even running would take 5 hours one way to reach the beach .'}]"
      ]
     },
     "execution_count": 5,
     "metadata": {},
     "output_type": "execute_result"
    }
   ],
   "source": [
    "story = \"\"\"Once upon a time, Markus was born in a small city in Ukraine, we was raised as any other child to enjoy the nature,\n",
    "practice sport activities and play with other children. He always enjoyed to walk along the river cause there were so many\n",
    "interestings things for him. The road was too long so in one day he could never reach the closest river beach where he knew\n",
    "that there were always some activities and some of his friends live here. One day he saw a miracle, a man who was flying with\n",
    "a strange thing below his legs. The speed was fast enough so Markus didn't capture all the details but he started to wonder\n",
    "what it was and if we could ever use such magic to reach the river beach. Some days left he never saw this mysterious man \n",
    "so he started training to run so that one day he may be able to run to the beach. But the distance was so far that even running \n",
    "it would take 5 hours one way to reach the beach. Another day when we were training, he saw this mysterious man flying above \n",
    "the streets with a magical thing again. This time the man was closer and Markus managed to realize that the magical things have \n",
    "two wheels and some metallic connections between. He tried to ask the man what it was, but the man had already gone. The next day \n",
    "he talked to his father that this would help him to reach the beach one day. The father was busy because he was painting the walls \n",
    "in the kitchen but he immediately understood that it was a bicycle but Markus didn't tell Markus. Father started to save some money \n",
    "so that one day he could buy Markus a new bicycle.\n",
    "The winter has passed and the father saved some amount to finally buy a bible. During his next birthday, Markus got a new present.\n",
    "It was a gigantic box that waited for him in his room. Markus was surprised but immediately started to unpack his box. \n",
    "During this process he started to see some known patterns like two wheels and metallic connections. He was so excited \n",
    "that he could use the new bicycle to reach the wanted beach. After unpacking he realized that it was not a bicycle but \n",
    "a wheelchair. At this moment, the father realized that he confused the bicycle and bought a wheelchair by mistake.\n",
    "The father knew that the item is non refundable and immediately broke two of his son's legs so that the new purchases made sense.\n",
    "After this day, Markus was not even able to see the river because he was immobilized.\n",
    "\"\"\"\n",
    "\n",
    "summarizer = transformers.pipeline('summarization')\n",
    "resume = summarizer(story)\n",
    "resume"
   ]
  },
  {
   "attachments": {},
   "cell_type": "markdown",
   "metadata": {},
   "source": []
  },
  {
   "cell_type": "code",
   "execution_count": null,
   "metadata": {},
   "outputs": [],
   "source": []
  }
 ],
 "metadata": {
  "kernelspec": {
   "display_name": "Python 3",
   "language": "python",
   "name": "python3"
  },
  "language_info": {
   "codemirror_mode": {
    "name": "ipython",
    "version": 3
   },
   "file_extension": ".py",
   "mimetype": "text/x-python",
   "name": "python",
   "nbconvert_exporter": "python",
   "pygments_lexer": "ipython3",
   "version": "3.11.4"
  },
  "orig_nbformat": 4
 },
 "nbformat": 4,
 "nbformat_minor": 2
}
